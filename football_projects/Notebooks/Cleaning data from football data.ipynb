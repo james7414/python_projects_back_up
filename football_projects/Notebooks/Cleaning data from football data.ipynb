{
 "cells": [
  {
   "cell_type": "markdown",
   "metadata": {},
   "source": [
    "In this notebook I will look to clean the data extracted from: https://www.football-data.co.uk/\n",
    "\n",
    "The output will be  dataframes of results data from the premier league where we have columns for the following:\n",
    "* Home team goals\n",
    "* Away team goals\n",
    "* Match result\n",
    "* Betting odds from Bet365"
   ]
  },
  {
   "cell_type": "code",
   "execution_count": 1,
   "metadata": {},
   "outputs": [],
   "source": [
    "import os\n",
    "os.chdir(\"../\")"
   ]
  },
  {
   "cell_type": "code",
   "execution_count": 2,
   "metadata": {},
   "outputs": [],
   "source": [
    "import pandas as pd\n",
    "\n",
    "from src.football_data.etl.clean import (\n",
    "    clean_football_data\n",
    ")"
   ]
  },
  {
   "cell_type": "markdown",
   "metadata": {},
   "source": [
    "# Config"
   ]
  },
  {
   "cell_type": "code",
   "execution_count": 3,
   "metadata": {},
   "outputs": [],
   "source": [
    "season_name_list = [\"2019_2020\",\"2020_2021\",\"2021_2022\"]"
   ]
  },
  {
   "cell_type": "markdown",
   "metadata": {},
   "source": [
    "# Clean data from football-data\n",
    "\n",
    "### Read data\n",
    "\n",
    "Reading data for Premier League 2019-2020 season \n",
    "\n",
    "I have stored data from football-data.co.uk in a folder called /data which is not put into version control named with the following format: \n",
    "* data/football_data_prem_{season_name}.csv"
   ]
  },
  {
   "cell_type": "code",
   "execution_count": 4,
   "metadata": {},
   "outputs": [],
   "source": [
    "example_season_name = season_name_list[0]\n",
    "football_data_df = pd.read_csv(f'data/football_data_prem_{example_season_name}.csv')  "
   ]
  },
  {
   "cell_type": "markdown",
   "metadata": {},
   "source": [
    "### Clean data for example season"
   ]
  },
  {
   "cell_type": "code",
   "execution_count": 18,
   "metadata": {},
   "outputs": [
    {
     "data": {
      "text/html": [
       "<div>\n",
       "<style scoped>\n",
       "    .dataframe tbody tr th:only-of-type {\n",
       "        vertical-align: middle;\n",
       "    }\n",
       "\n",
       "    .dataframe tbody tr th {\n",
       "        vertical-align: top;\n",
       "    }\n",
       "\n",
       "    .dataframe thead th {\n",
       "        text-align: right;\n",
       "    }\n",
       "</style>\n",
       "<table border=\"1\" class=\"dataframe\">\n",
       "  <thead>\n",
       "    <tr style=\"text-align: right;\">\n",
       "      <th></th>\n",
       "      <th>league_code</th>\n",
       "      <th>season_name</th>\n",
       "      <th>date</th>\n",
       "      <th>time</th>\n",
       "      <th>kickoff</th>\n",
       "      <th>hometeam</th>\n",
       "      <th>awayteam</th>\n",
       "      <th>fthg</th>\n",
       "      <th>ftag</th>\n",
       "      <th>ftr</th>\n",
       "      <th>hthg</th>\n",
       "      <th>htag</th>\n",
       "      <th>htr</th>\n",
       "      <th>b365h</th>\n",
       "      <th>b365d</th>\n",
       "      <th>b365a</th>\n",
       "    </tr>\n",
       "  </thead>\n",
       "  <tbody>\n",
       "    <tr>\n",
       "      <th>0</th>\n",
       "      <td>E0</td>\n",
       "      <td>2019_2020</td>\n",
       "      <td>09/08/2019</td>\n",
       "      <td>20:00</td>\n",
       "      <td>2019-09-08 20:00:00</td>\n",
       "      <td>Liverpool</td>\n",
       "      <td>Norwich</td>\n",
       "      <td>4</td>\n",
       "      <td>1</td>\n",
       "      <td>H</td>\n",
       "      <td>4</td>\n",
       "      <td>0</td>\n",
       "      <td>H</td>\n",
       "      <td>1.14</td>\n",
       "      <td>10.0</td>\n",
       "      <td>19.00</td>\n",
       "    </tr>\n",
       "    <tr>\n",
       "      <th>1</th>\n",
       "      <td>E0</td>\n",
       "      <td>2019_2020</td>\n",
       "      <td>10/08/2019</td>\n",
       "      <td>12:30</td>\n",
       "      <td>2019-10-08 12:30:00</td>\n",
       "      <td>West Ham</td>\n",
       "      <td>Man City</td>\n",
       "      <td>0</td>\n",
       "      <td>5</td>\n",
       "      <td>A</td>\n",
       "      <td>0</td>\n",
       "      <td>1</td>\n",
       "      <td>A</td>\n",
       "      <td>12.00</td>\n",
       "      <td>6.5</td>\n",
       "      <td>1.22</td>\n",
       "    </tr>\n",
       "    <tr>\n",
       "      <th>2</th>\n",
       "      <td>E0</td>\n",
       "      <td>2019_2020</td>\n",
       "      <td>10/08/2019</td>\n",
       "      <td>15:00</td>\n",
       "      <td>2019-10-08 15:00:00</td>\n",
       "      <td>Bournemouth</td>\n",
       "      <td>Sheffield United</td>\n",
       "      <td>1</td>\n",
       "      <td>1</td>\n",
       "      <td>D</td>\n",
       "      <td>0</td>\n",
       "      <td>0</td>\n",
       "      <td>D</td>\n",
       "      <td>1.95</td>\n",
       "      <td>3.6</td>\n",
       "      <td>3.60</td>\n",
       "    </tr>\n",
       "  </tbody>\n",
       "</table>\n",
       "</div>"
      ],
      "text/plain": [
       "  league_code season_name        date   time             kickoff     hometeam  \\\n",
       "0          E0   2019_2020  09/08/2019  20:00 2019-09-08 20:00:00    Liverpool   \n",
       "1          E0   2019_2020  10/08/2019  12:30 2019-10-08 12:30:00     West Ham   \n",
       "2          E0   2019_2020  10/08/2019  15:00 2019-10-08 15:00:00  Bournemouth   \n",
       "\n",
       "           awayteam  fthg  ftag ftr  hthg  htag htr  b365h  b365d  b365a  \n",
       "0           Norwich     4     1   H     4     0   H   1.14   10.0  19.00  \n",
       "1          Man City     0     5   A     0     1   A  12.00    6.5   1.22  \n",
       "2  Sheffield United     1     1   D     0     0   D   1.95    3.6   3.60  "
      ]
     },
     "execution_count": 18,
     "metadata": {},
     "output_type": "execute_result"
    }
   ],
   "source": [
    "cleaned_football_data_df = clean_football_data(football_data_df = football_data_df, season_name = example_season_name)\n",
    "cleaned_football_data_df.head(3)"
   ]
  },
  {
   "cell_type": "markdown",
   "metadata": {},
   "source": [
    "Note that data from season 2019/20 onwards contains a time column which is not there for seasons before. Let's look at how we can deal with this if we wanted to grab data before 2019/20 season\n",
    "\n",
    "Example season we will grab is the 2018/19 season."
   ]
  },
  {
   "cell_type": "code",
   "execution_count": 14,
   "metadata": {},
   "outputs": [],
   "source": [
    "season_name_before_19_20 = '2018_2019'\n",
    "football_data_df_before_1920 = pd.read_csv(f'data/football_data_prem_{season_name_before_19_20}.csv')  "
   ]
  },
  {
   "cell_type": "markdown",
   "metadata": {},
   "source": [
    "To keep the data in the same format we will assign the time of each match as midnight. This is so that if we were to look at kickoff effects we know which rows to get rid of. "
   ]
  },
  {
   "cell_type": "code",
   "execution_count": 15,
   "metadata": {},
   "outputs": [],
   "source": [
    "football_data_df_before_1920 = football_data_df_before_1920.assign(Time='00:00')"
   ]
  },
  {
   "cell_type": "code",
   "execution_count": 17,
   "metadata": {},
   "outputs": [
    {
     "data": {
      "text/html": [
       "<div>\n",
       "<style scoped>\n",
       "    .dataframe tbody tr th:only-of-type {\n",
       "        vertical-align: middle;\n",
       "    }\n",
       "\n",
       "    .dataframe tbody tr th {\n",
       "        vertical-align: top;\n",
       "    }\n",
       "\n",
       "    .dataframe thead th {\n",
       "        text-align: right;\n",
       "    }\n",
       "</style>\n",
       "<table border=\"1\" class=\"dataframe\">\n",
       "  <thead>\n",
       "    <tr style=\"text-align: right;\">\n",
       "      <th></th>\n",
       "      <th>league_code</th>\n",
       "      <th>season_name</th>\n",
       "      <th>date</th>\n",
       "      <th>time</th>\n",
       "      <th>kickoff</th>\n",
       "      <th>hometeam</th>\n",
       "      <th>awayteam</th>\n",
       "      <th>fthg</th>\n",
       "      <th>ftag</th>\n",
       "      <th>ftr</th>\n",
       "      <th>hthg</th>\n",
       "      <th>htag</th>\n",
       "      <th>htr</th>\n",
       "      <th>b365h</th>\n",
       "      <th>b365d</th>\n",
       "      <th>b365a</th>\n",
       "    </tr>\n",
       "  </thead>\n",
       "  <tbody>\n",
       "    <tr>\n",
       "      <th>0</th>\n",
       "      <td>E0</td>\n",
       "      <td>2018_2019</td>\n",
       "      <td>10/08/2018</td>\n",
       "      <td>00:00</td>\n",
       "      <td>2018-10-08</td>\n",
       "      <td>Man United</td>\n",
       "      <td>Leicester</td>\n",
       "      <td>2</td>\n",
       "      <td>1</td>\n",
       "      <td>H</td>\n",
       "      <td>1</td>\n",
       "      <td>0</td>\n",
       "      <td>H</td>\n",
       "      <td>1.57</td>\n",
       "      <td>3.9</td>\n",
       "      <td>7.5</td>\n",
       "    </tr>\n",
       "    <tr>\n",
       "      <th>1</th>\n",
       "      <td>E0</td>\n",
       "      <td>2018_2019</td>\n",
       "      <td>11/08/2018</td>\n",
       "      <td>00:00</td>\n",
       "      <td>2018-11-08</td>\n",
       "      <td>Bournemouth</td>\n",
       "      <td>Cardiff</td>\n",
       "      <td>2</td>\n",
       "      <td>0</td>\n",
       "      <td>H</td>\n",
       "      <td>1</td>\n",
       "      <td>0</td>\n",
       "      <td>H</td>\n",
       "      <td>1.90</td>\n",
       "      <td>3.6</td>\n",
       "      <td>4.5</td>\n",
       "    </tr>\n",
       "    <tr>\n",
       "      <th>2</th>\n",
       "      <td>E0</td>\n",
       "      <td>2018_2019</td>\n",
       "      <td>11/08/2018</td>\n",
       "      <td>00:00</td>\n",
       "      <td>2018-11-08</td>\n",
       "      <td>Fulham</td>\n",
       "      <td>Crystal Palace</td>\n",
       "      <td>0</td>\n",
       "      <td>2</td>\n",
       "      <td>A</td>\n",
       "      <td>0</td>\n",
       "      <td>1</td>\n",
       "      <td>A</td>\n",
       "      <td>2.50</td>\n",
       "      <td>3.4</td>\n",
       "      <td>3.0</td>\n",
       "    </tr>\n",
       "  </tbody>\n",
       "</table>\n",
       "</div>"
      ],
      "text/plain": [
       "  league_code season_name        date   time    kickoff     hometeam  \\\n",
       "0          E0   2018_2019  10/08/2018  00:00 2018-10-08   Man United   \n",
       "1          E0   2018_2019  11/08/2018  00:00 2018-11-08  Bournemouth   \n",
       "2          E0   2018_2019  11/08/2018  00:00 2018-11-08       Fulham   \n",
       "\n",
       "         awayteam  fthg  ftag ftr  hthg  htag htr  b365h  b365d  b365a  \n",
       "0       Leicester     2     1   H     1     0   H   1.57    3.9    7.5  \n",
       "1         Cardiff     2     0   H     1     0   H   1.90    3.6    4.5  \n",
       "2  Crystal Palace     0     2   A     0     1   A   2.50    3.4    3.0  "
      ]
     },
     "execution_count": 17,
     "metadata": {},
     "output_type": "execute_result"
    }
   ],
   "source": [
    "cleaned_football_data_df_before_1920 = clean_football_data(\n",
    "    football_data_df = football_data_df_before_1920 , \n",
    "    season_name = season_name_before_19_20\n",
    ")\n",
    "cleaned_football_data_df_before_1920.head(3)"
   ]
  },
  {
   "cell_type": "markdown",
   "metadata": {},
   "source": [
    "# Conclusion\n",
    "\n",
    "This notebook has demoed how to clean data from football-data.co.uk for Premier League matches. We have seen that from the 2019/20 season an extra variable (time) is added and we have shown how to deal with this. The cleaned data can now be used as a basis for regression or classification problems where we predict:\n",
    "* the result of each match (classification)\n",
    "* the number of goals scored by each team (regression)"
   ]
  }
 ],
 "metadata": {
  "kernelspec": {
   "display_name": "Python 3.10.8 ('football')",
   "language": "python",
   "name": "python3"
  },
  "language_info": {
   "codemirror_mode": {
    "name": "ipython",
    "version": 3
   },
   "file_extension": ".py",
   "mimetype": "text/x-python",
   "name": "python",
   "nbconvert_exporter": "python",
   "pygments_lexer": "ipython3",
   "version": "3.10.8"
  },
  "orig_nbformat": 4,
  "vscode": {
   "interpreter": {
    "hash": "92de9f9f19860f8bb8010f6c565eccfb8b6b6b156a69eeabae9a676cbb944b4a"
   }
  }
 },
 "nbformat": 4,
 "nbformat_minor": 2
}
